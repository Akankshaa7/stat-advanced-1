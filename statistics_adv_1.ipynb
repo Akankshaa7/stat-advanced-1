{
  "nbformat": 4,
  "nbformat_minor": 0,
  "metadata": {
    "colab": {
      "provenance": []
    },
    "kernelspec": {
      "name": "python3",
      "display_name": "Python 3"
    },
    "language_info": {
      "name": "python"
    }
  },
  "cells": [
    {
      "cell_type": "code",
      "execution_count": null,
      "metadata": {
        "id": "YK1jY5UbiDgU"
      },
      "outputs": [],
      "source": []
    },
    {
      "cell_type": "markdown",
      "source": [
        "Question 1: What is a random variable in probability theory?\n",
        "\n",
        "--->In probability theory, a random variable is a variable that represents the numerical outcome of a random experiment.\n",
        "\n",
        "It assigns a real number to each possible outcome of an experiment.\n",
        "\n",
        "There are two main types of random variables:\n",
        "\n",
        "Discrete random variable: Takes a countable number of possible values (e.g., number of heads when tossing 3 coins).\n",
        "\n",
        "Continuous random variable: Takes an infinite number of possible values within a range (e.g., the time it takes for a computer to boot up).\n",
        "\n",
        "✅ Example:\n",
        "When rolling a fair six-sided die,\n",
        "\n",
        "The experiment: rolling the die\n",
        "\n",
        "The outcome: one of {1, 2, 3, 4, 5, 6}\n",
        "\n",
        "The random variable\n",
        "𝑋\n",
        "X: the number shown on the die\n",
        "\n",
        "So,\n",
        "𝑋\n",
        "X can take values 1 through 6."
      ],
      "metadata": {
        "id": "Q6kE6yZSiHer"
      }
    },
    {
      "cell_type": "markdown",
      "source": [
        "Question 2: What are the types of random variables?\n",
        "\n",
        "--->1.Discrete Random Variable\n",
        "\n",
        "Takes countable distinct values.\n",
        "\n",
        "Examples:\n",
        "\n",
        "Number of heads when tossing 3 coins (0, 1, 2, 3)\n",
        "\n",
        "Number of students present in a class\n",
        "\n",
        "Has a probability mass function (PMF) that gives the probability of each possible value.\n",
        "\n",
        "2.Continuous Random Variable\n",
        "\n",
        "Takes uncountably infinite values within a given range.\n",
        "\n",
        "Examples:\n",
        "\n",
        "Height of students in a class\n",
        "\n",
        "Time taken to finish a task\n",
        "\n",
        "Described by a probability density function (PDF), and probabilities are found over intervals (e.g.,\n",
        "𝑃\n",
        "(\n",
        "𝑎\n",
        "≤\n",
        "𝑋\n",
        "≤\n",
        "𝑏\n",
        ")\n",
        "P(a≤X≤b))."
      ],
      "metadata": {
        "id": "ydt4YfVziXma"
      }
    },
    {
      "cell_type": "markdown",
      "source": [
        "Question 3: Explain the difference between discrete and continuous distributions.\n",
        "\n",
        "--->A discrete distribution describes the probability of outcomes of a discrete random variable, which can take only specific, countable values, such as the result of rolling a die or the number of defective items in a batch. Each possible value has an assigned probability, and the total of all probabilities equals one.\n",
        "\n",
        "In contrast,\n",
        " a continuous distribution deals with a continuous random variable, which can take any value within a given range, such as height, weight, or time. Instead of individual probabilities, it is described by a probability density function (PDF), and probabilities are calculated over intervals because the probability of the variable taking any exact value is zero. In summary, discrete distributions handle countable outcomes, while continuous distributions handle uncountably infinite outcomes over an interval."
      ],
      "metadata": {
        "id": "FqEqIJNUikLz"
      }
    },
    {
      "cell_type": "markdown",
      "source": [
        "Question 4: What is a binomial distribution, and how is it used in probability?\n",
        "\n",
        "--->A **binomial distribution** is a type of **discrete probability distribution** that represents the number of **successes** in a fixed number of **independent trials**, where each trial has only **two possible outcomes** — success or failure.\n",
        "\n",
        "It is defined by two parameters:\n",
        "\n",
        "* ( n ): the number of trials\n",
        "* ( p ): the probability of success in each trial\n",
        "\n",
        "The probability of getting exactly ( k ) successes is given by:\n",
        "[\n",
        "P(X = k) = \\binom{n}{k} p^k (1 - p)^{n - k}\n",
        "]\n",
        "\n",
        "✅ **Example:**\n",
        "If you flip a fair coin 5 times (( n = 5 ), ( p = 0.5 )), the binomial distribution can be used to find the probability of getting exactly 3 heads.\n",
        "\n",
        "**Uses in probability:**\n",
        "\n",
        "-Modeling the number of successes in repeated experiments (e.g., number of defective items in a sample)\n",
        "-Quality control and reliability testing\n",
        "-Survey results with yes/no responses\n",
        "\n",
        "\n"
      ],
      "metadata": {
        "id": "y-3Z1AEhi2Nh"
      }
    },
    {
      "cell_type": "markdown",
      "source": [
        "Question 5: What is the standard normal distribution, and why is it important?\n",
        "\n",
        "--->The **standard normal distribution** is a special case of the **normal (Gaussian) distribution** that has a **mean (μ) of 0** and a **standard deviation (σ) of 1**. It is a **bell-shaped, symmetric** curve centered at zero, representing how values are distributed around the mean.\n",
        "\n",
        "It is described by the **probability density function (PDF):**\n",
        "[\n",
        "f(z) = \\frac{1}{\\sqrt{2\\pi}} e^{-\\frac{z^2}{2}}\n",
        "]\n",
        "where ( z ) represents the **z-score**, which measures how many standard deviations a value is from the mean.\n",
        "\n",
        "✅ **Importance:**\n",
        "\n",
        "* It serves as a **reference distribution** for many statistical analyses.\n",
        "* It allows data from any normal distribution to be **standardized** using the z-score formula:\n",
        "  [\n",
        "  z = \\frac{x - \\mu}{\\sigma}\n",
        "  ]\n",
        "  so that probabilities can be easily found using **z-tables**.\n",
        "* It forms the basis for many statistical tests, confidence intervals, and regression models.\n",
        "\n",
        "\n"
      ],
      "metadata": {
        "id": "FOqVCOanjQS5"
      }
    },
    {
      "cell_type": "markdown",
      "source": [
        "Question 6: What is the Central Limit Theorem (CLT), and why is it critical in statistics?\n",
        "\n",
        "--->The **Central Limit Theorem (CLT)** is one of the most important concepts in statistics. It states that when **a large number of independent, random samples** are taken from any population with a finite mean and variance, the **sampling distribution of the sample mean** will **approximate a normal distribution**, regardless of the shape of the original population distribution.\n",
        "\n",
        "Mathematically, as the sample size ( n ) increases,\n",
        "[\n",
        "\\bar{X} \\sim N\\left(\\mu, \\frac{\\sigma^2}{n}\\right)\n",
        "]\n",
        "where:\n",
        "\n",
        "* ( \\mu ) = population mean\n",
        "* ( \\sigma^2 ) = population variance\n",
        "* ( \\bar{X} ) = sample mean\n",
        "\n",
        "✅ **Importance:**\n",
        "\n",
        "* It allows statisticians to **use normal distribution methods** (like z-scores and confidence intervals) even when the population distribution is not normal.\n",
        "* It is the foundation for **inferential statistics**, helping us make conclusions about a population from a sample.\n",
        "* It explains why many real-world variables (like test scores, heights, and errors) tend to follow a **normal distribution** when averaged over many samples.\n",
        "\n",
        "\n"
      ],
      "metadata": {
        "id": "-pMs_kasjfCM"
      }
    },
    {
      "cell_type": "markdown",
      "source": [
        "Question 7: What is the significance of confidence intervals in statistical analysis?\n",
        "\n",
        "--->A **confidence interval (CI)** is a range of values, derived from sample data, that is likely to contain the **true population parameter** (such as the mean or proportion) with a specified level of confidence.\n",
        "\n",
        "For example, a **95% confidence interval** means that if the same sampling procedure were repeated many times, about **95% of those intervals** would contain the true population value.\n",
        "\n",
        "✅ **Significance in statistical analysis:**\n",
        "\n",
        "* It provides an **estimate of uncertainty** around a sample statistic.\n",
        "* It is **more informative than a single point estimate**, as it shows the possible range of the true value.\n",
        "* It helps in **decision-making** by indicating how precise or reliable the estimate is.\n",
        "* It is widely used in **hypothesis testing**, **survey analysis**, and **quality control** to assess how well sample data represent the population.\n",
        "\n",
        "\n"
      ],
      "metadata": {
        "id": "Kx27P6RSj0cm"
      }
    },
    {
      "cell_type": "markdown",
      "source": [
        "Question 8: What is the concept of expected value in a probability distribution?\n",
        "\n",
        "--->The **expected value** in a probability distribution represents the **long-term average** or **mean** of a random variable — the value you would expect to obtain on average if an experiment were repeated many times.\n",
        "\n",
        "It is a measure of the **center** of a probability distribution.\n",
        "\n",
        "Mathematically:\n",
        "\n",
        "* For a **discrete random variable** ( X ):\n",
        "  [\n",
        "  E(X) = \\sum [x_i \\cdot P(x_i)]\n",
        "  ]\n",
        "  where ( x_i ) are possible values of ( X ), and ( P(x_i) ) are their probabilities.\n",
        "\n",
        "* For a **continuous random variable** ( X ):\n",
        "  [\n",
        "  E(X) = \\int_{-\\infty}^{\\infty} x , f(x) , dx\n",
        "  ]\n",
        "  where ( f(x) ) is the probability density function (PDF).\n",
        "\n",
        "✅ **Example:**\n",
        "If you roll a fair six-sided die,\n",
        "[\n",
        "E(X) = (1+2+3+4+5+6)/6 = 3.5\n",
        "]\n",
        "This means that, on average, you’d expect to roll a 3.5 over many trials.\n",
        "\n",
        "\n"
      ],
      "metadata": {
        "id": "BIe-X6z5j-6F"
      }
    },
    {
      "cell_type": "markdown",
      "source": [
        "Question 9: Write a Python program to generate 1000 random numbers from a normal\n",
        "distribution with mean = 50 and standard deviation = 5. Compute its mean and standard\n",
        "deviation using NumPy, and draw a histogram to visualize the distribution.\n",
        "(Include your Python code and output in the code box below.)"
      ],
      "metadata": {
        "id": "DpH7lVnSkJnk"
      }
    },
    {
      "cell_type": "code",
      "source": [],
      "metadata": {
        "id": "_kWOCj1OkOey"
      },
      "execution_count": null,
      "outputs": []
    },
    {
      "cell_type": "code",
      "metadata": {
        "colab": {
          "base_uri": "https://localhost:8080/",
          "height": 507
        },
        "id": "8fe99eb9",
        "outputId": "f4e9f92d-1637-42bf-ca3c-14c804f140fc"
      },
      "source": [
        "import numpy as np\n",
        "import matplotlib.pyplot as plt\n",
        "\n",
        "\n",
        "mean = 50\n",
        "std_dev = 5\n",
        "random_numbers = np.random.normal(mean, std_dev, 1000)\n",
        "\n",
        "\n",
        "computed_mean = np.mean(random_numbers)\n",
        "computed_std_dev = np.std(random_numbers)\n",
        "\n",
        "print(f\"Computed Mean: {computed_mean}\")\n",
        "print(f\"Computed Standard Deviation: {computed_std_dev}\")\n",
        "\n",
        "\n",
        "plt.hist(random_numbers, bins=30, density=True, alpha=0.6, color='g')\n",
        "plt.title('Histogram of Random Numbers from Normal Distribution')\n",
        "plt.xlabel('Value')\n",
        "plt.ylabel('Frequency')\n",
        "plt.show()"
      ],
      "execution_count": 1,
      "outputs": [
        {
          "output_type": "stream",
          "name": "stdout",
          "text": [
            "Computed Mean: 50.03992859362868\n",
            "Computed Standard Deviation: 4.835141680420586\n"
          ]
        },
        {
          "output_type": "display_data",
          "data": {
            "text/plain": [
              "<Figure size 640x480 with 1 Axes>"
            ],
            "image/png": "[encoded data removed]"
          },
          "metadata": {}
        }
      ]
    },
    {
      "cell_type": "markdown",
      "source": [
        "Question 10: You are working as a data analyst for a retail company. The company has\n",
        "collected daily sales data for 2 years and wants you to identify the overall sales trend.\n",
        "daily_sales = [220, 245, 210, 265, 230, 250, 260, 275, 240, 255,\n",
        " 235, 260, 245, 250, 225, 270, 265, 255, 250, 260]\n",
        "● Explain how you would apply the Central Limit Theorem to estimate the average sales\n",
        "with a 95% confidence interval.\n",
        "● Write the Python code to compute the mean sales and its confidence interval"
      ],
      "metadata": {
        "id": "mbfAIeOgkZd_"
      }
    },
    {
      "cell_type": "code",
      "metadata": {
        "colab": {
          "base_uri": "https://localhost:8080/"
        },
        "id": "0faa7aaa",
        "outputId": "e7e8af47-2878-4250-ce9a-cf49642bc8cb"
      },
      "source": [
        "import numpy as np\n",
        "from scipy import stats\n",
        "\n",
        "daily_sales = [220, 245, 210, 265, 230, 250, 260, 275, 240, 255,\n",
        "               235, 260, 245, 250, 225, 270, 265, 255, 250, 260]\n",
        "\n",
        "\n",
        "sample_mean = np.mean(daily_sales)\n",
        "\n",
        "\n",
        "sample_std = np.std(daily_sales, ddof=1)\n",
        "\n",
        "\n",
        "n = len(daily_sales)\n",
        "\n",
        "\n",
        "confidence_level = 0.95\n",
        "\n",
        "\n",
        "degrees_freedom = n - 1\n",
        "\n",
        "\n",
        "alpha = 1 - confidence_level\n",
        "t_critical = stats.t.ppf(1 - alpha/2, degrees_freedom)\n",
        "\n",
        "\n",
        "margin_of_error = t_critical * (sample_std / np.sqrt(n))\n",
        "\n",
        "\n",
        "confidence_interval = (sample_mean - margin_of_error, sample_mean + margin_of_error)\n",
        "\n",
        "print(f\"Sample Mean Sales: {sample_mean:.2f}\")\n",
        "print(f\"95% Confidence Interval for Mean Sales: ({confidence_interval[0]:.2f}, {confidence_interval[1]:.2f})\")"
      ],
      "execution_count": 2,
      "outputs": [
        {
          "output_type": "stream",
          "name": "stdout",
          "text": [
            "Sample Mean Sales: 248.25\n",
            "95% Confidence Interval for Mean Sales: (240.17, 256.33)\n"
          ]
        }
      ]
    },
    {
      "cell_type": "markdown",
      "metadata": {
        "id": "f588c61e"
      },
      "source": [
        "\n",
        "\n",
        "**Applying the Central Limit Theorem**\n",
        "\n",
        "Even though we have a sample of daily sales data (which is likely much smaller than the entire population of daily sales over a longer period), the Central Limit Theorem tells us that if our sample size is sufficiently large (generally considered to be n > 30), the distribution of the sample means will approximate a normal distribution, regardless of the shape of the original population distribution.\n",
        "\n",
        "In this case, our `daily_sales` list has 20 data points, which is less than the typical threshold of 30 for the CLT to strictly apply. However, for illustrative purposes and assuming this sample is representative of a larger dataset where the CLT would apply, we can proceed with the concept.\n",
        "\n",
        "The key idea is that the sample mean ($\\bar{x}$) is an estimate of the true population mean ($\\mu$). The CLT allows us to use the properties of the normal distribution to construct a confidence interval around our sample mean, giving us a range within which we are confident the true population mean lies.\n",
        "\n",
        "**Steps:**\n",
        "\n",
        "1.  **Calculate the sample mean ($\\bar{x}$):** This is the average of the `daily_sales` data.\n",
        "2.  **Calculate the sample standard deviation (s):** This measures the variability of the sample data.\n",
        "3.  **Determine the sample size (n):** The number of data points in `daily_sales`.\n",
        "4.  **Choose a confidence level:** The question specifies a 95% confidence interval. This means we want to be 95% confident that the true population mean falls within our calculated interval.\n",
        "5.  **Find the critical value (z* or t*):** Since our sample size is small (n < 30) and the population standard deviation is unknown, it's more appropriate to use the t-distribution instead of the z-distribution. For a 95% confidence level and a sample size of 20 (degrees of freedom = n - 1 = 19), we would look up the critical t-value.\n",
        "6.  **Calculate the standard error of the mean (SE):** This is calculated as $SE = s / \\sqrt{n}$. It represents the standard deviation of the sampling distribution of the mean.\n",
        "7.  **Calculate the margin of error (ME):** This is calculated as $ME = t* \\times SE$.\n",
        "8.  **Construct the confidence interval:** The 95% confidence interval is given by:\n",
        "\n",
        "    Confidence Interval = $\\bar{x} \\pm ME$\n",
        "\n",
        "This interval provides a range of values, based on our sample data, within which we are 95% confident the true average daily sales for the retail company lies.\n",
        "\n"
      ]
    }
  ]
}